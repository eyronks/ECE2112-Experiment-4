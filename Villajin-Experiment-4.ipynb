{
 "cells": [
  {
   "cell_type": "markdown",
   "id": "45ee45a3-5099-47ce-bb62-49668430e09a",
   "metadata": {},
   "source": [
    "## ECE2112: Experiment 4"
   ]
  },
  {
   "cell_type": "markdown",
   "id": "aa53c01e-ce61-4058-bae8-d3fc41330ce6",
   "metadata": {},
   "source": [
    "This notebook contains Python code developed for the Experiment 4 in ECE2112, focusing on Data Wrangling and Data Visualization.\n",
    "\n",
    "**Submitted by:** Aaron Chastine V. Villajin"
   ]
  },
  {
   "cell_type": "markdown",
   "id": "4a62a91d-889a-4fa4-9d5f-f21c9ade90ca",
   "metadata": {},
   "source": [
    "***"
   ]
  },
  {
   "cell_type": "markdown",
   "id": "7760488d-68b9-425c-b7b3-33842837b580",
   "metadata": {},
   "source": [
    "#### Objectives of this Experiment"
   ]
  },
  {
   "cell_type": "markdown",
   "id": "7428a36a-8fee-45c6-8404-a8dfcc17dff6",
   "metadata": {},
   "source": [
    "> To identify the codes and functions needed in cleaning and visualizing data."
   ]
  },
  {
   "cell_type": "markdown",
   "id": "ecd72dbc-b9a2-4c3b-b4d2-5ed10f729df2",
   "metadata": {},
   "source": [
    "> To be able to apply and use the different codes and functions in creating a Python program that will\n",
    "be used in data wrangling and data visualization."
   ]
  },
  {
   "cell_type": "markdown",
   "id": "4738fd0c-39bc-405a-b036-2d851453e5cd",
   "metadata": {},
   "source": [
    "***"
   ]
  },
  {
   "cell_type": "markdown",
   "id": "4aa2cce3-ea79-4713-81a8-41f0686887d4",
   "metadata": {},
   "source": [
    "#### ECE Board Exam Problem"
   ]
  },
  {
   "cell_type": "markdown",
   "id": "f6089de2-9c6f-4d4a-b066-3c7f23c7af64",
   "metadata": {},
   "source": [
    "*Using data wrangling and data visualization technique with \n",
    "storytelling, analyze the data and present different (i) data frames; and (ii) visuals using the dataset given*."
   ]
  },
  {
   "cell_type": "markdown",
   "id": "50b0cfea-3c64-4e98-af06-006899c83cc1",
   "metadata": {},
   "source": [
    "**Script:**"
   ]
  },
  {
   "cell_type": "markdown",
   "id": "5241ebc4-1328-406e-bce9-6a45218f0c65",
   "metadata": {},
   "source": [
    "> Import the necessary libraries for the script"
   ]
  },
  {
   "cell_type": "code",
   "execution_count": 20,
   "id": "2b294b01-1226-42e9-8bb7-fa01c2c5a93a",
   "metadata": {},
   "outputs": [],
   "source": [
    "# Import necessary libraries\n",
    "import pandas as pd\n",
    "import matplotlib.pyplot as plt"
   ]
  },
  {
   "cell_type": "markdown",
   "id": "b6ca10cd-70c2-4514-8ee7-7c879752d59d",
   "metadata": {},
   "source": [
    "**Function:** These libraries are essential to solve the problem because they provide the necessary tools for data manipulation, analysis, and visualization, as well as enhancing the aesthetics of the printed data frames."
   ]
  },
  {
   "cell_type": "markdown",
   "id": "e0413b16-32b7-4e0c-b73a-75683926554b",
   "metadata": {},
   "source": [
    "> This section reads the data from an Excel file named boards2.xlsx into a Pandas Data Frame object called df. "
   ]
  },
  {
   "cell_type": "code",
   "execution_count": 7,
   "id": "04643727-74d5-4971-ab56-b2baf20ec4bc",
   "metadata": {},
   "outputs": [],
   "source": [
    "# Read data from Excel file\n",
    "data = pd.read_excel('board2.xlsx')"
   ]
  },
  {
   "cell_type": "markdown",
   "id": "61b50ef4-2f3f-4077-ac9e-3dc6e9a2f5a7",
   "metadata": {},
   "source": [
    "**Function:** This line of code is essential because it loads the data from the Excel file into a format that can be easily manipulated and analyzed using Pandas."
   ]
  },
  {
   "cell_type": "markdown",
   "id": "0fbd7351-5885-4df3-8041-39727af5d2f4",
   "metadata": {},
   "source": [
    "> Create the following data frames based on the format provided: *Instru = [“Name”, “GEAS”, “Electronics >70”]; where track is constant as \n",
    "Instrumentation and hometown Luzo*n"
   ]
  },
  {
   "cell_type": "code",
   "execution_count": 9,
   "id": "9d977543-cd83-45c1-b010-8cdffd0f43c1",
   "metadata": {},
   "outputs": [
    {
     "data": {
      "text/html": [
       "<div>\n",
       "<style scoped>\n",
       "    .dataframe tbody tr th:only-of-type {\n",
       "        vertical-align: middle;\n",
       "    }\n",
       "\n",
       "    .dataframe tbody tr th {\n",
       "        vertical-align: top;\n",
       "    }\n",
       "\n",
       "    .dataframe thead th {\n",
       "        text-align: right;\n",
       "    }\n",
       "</style>\n",
       "<table border=\"1\" class=\"dataframe\">\n",
       "  <thead>\n",
       "    <tr style=\"text-align: right;\">\n",
       "      <th></th>\n",
       "      <th>Name</th>\n",
       "      <th>GEAS</th>\n",
       "      <th>Electronics</th>\n",
       "    </tr>\n",
       "  </thead>\n",
       "  <tbody>\n",
       "    <tr>\n",
       "      <th>0</th>\n",
       "      <td>S1</td>\n",
       "      <td>75</td>\n",
       "      <td>89</td>\n",
       "    </tr>\n",
       "    <tr>\n",
       "      <th>7</th>\n",
       "      <td>S8</td>\n",
       "      <td>64</td>\n",
       "      <td>81</td>\n",
       "    </tr>\n",
       "    <tr>\n",
       "      <th>29</th>\n",
       "      <td>S30</td>\n",
       "      <td>57</td>\n",
       "      <td>81</td>\n",
       "    </tr>\n",
       "  </tbody>\n",
       "</table>\n",
       "</div>"
      ],
      "text/plain": [
       "   Name  GEAS  Electronics\n",
       "0    S1    75           89\n",
       "7    S8    64           81\n",
       "29  S30    57           81"
      ]
     },
     "execution_count": 9,
     "metadata": {},
     "output_type": "execute_result"
    }
   ],
   "source": [
    "# Create the required data frame for Instrumentation\n",
    "Instru = data[(data['Track'] == 'Instrumentation') & (data['Hometown'] == 'Luzon') & (data['Electronics'] > 70)][['Name', 'GEAS', 'Electronics']]\n",
    "Instru"
   ]
  },
  {
   "cell_type": "markdown",
   "id": "8baeced5-0784-4cfd-b37f-53e6f549d97a",
   "metadata": {},
   "source": [
    "**Function:** This code creates a new data frame Instru that filters the original data to include only rows where the Track is 'Instrumentation', Hometown is 'Luzon', and Electronics score is greater than 70. It then selects only the Name, GEAS, and Electronics columns from the filtered data. Finally, it prints the resulting DataFrame in a visually appealing format using the tabulate library, with a fancy grid table format."
   ]
  },
  {
   "cell_type": "markdown",
   "id": "b32c1349-7de5-48aa-a680-9676284d0579",
   "metadata": {},
   "source": [
    "> Create a column to compute for the 'Average' in the data frame"
   ]
  },
  {
   "cell_type": "code",
   "execution_count": 13,
   "id": "c74adc13-c45c-43f5-b53e-95708d67ad91",
   "metadata": {},
   "outputs": [],
   "source": [
    "# Create a new column 'Average' in the original data frame\n",
    "data['Average'] = data[['Math', 'Electronics', 'GEAS', 'Communication']].mean(axis=1)"
   ]
  },
  {
   "cell_type": "markdown",
   "id": "4bc48272-1abb-40f7-bca7-19047f1d8aa3",
   "metadata": {},
   "source": [
    "**Function:** This line of code creates a new column called Average in Mindy's original data. The values in this new column are calculated by taking the mean of the Math, Electronics, GEAS, and Communication columns for each row, effectively computing the average score across these four subjects."
   ]
  },
  {
   "cell_type": "code",
   "execution_count": 15,
   "id": "508d63cd-4a75-4da7-8aaa-ca6f5dbb1e96",
   "metadata": {},
   "outputs": [
    {
     "data": {
      "text/html": [
       "<div>\n",
       "<style scoped>\n",
       "    .dataframe tbody tr th:only-of-type {\n",
       "        vertical-align: middle;\n",
       "    }\n",
       "\n",
       "    .dataframe tbody tr th {\n",
       "        vertical-align: top;\n",
       "    }\n",
       "\n",
       "    .dataframe thead th {\n",
       "        text-align: right;\n",
       "    }\n",
       "</style>\n",
       "<table border=\"1\" class=\"dataframe\">\n",
       "  <thead>\n",
       "    <tr style=\"text-align: right;\">\n",
       "      <th></th>\n",
       "      <th>Name</th>\n",
       "      <th>Track</th>\n",
       "      <th>Electronics</th>\n",
       "      <th>Average</th>\n",
       "    </tr>\n",
       "  </thead>\n",
       "  <tbody>\n",
       "    <tr>\n",
       "      <th>1</th>\n",
       "      <td>S2</td>\n",
       "      <td>Communication</td>\n",
       "      <td>75</td>\n",
       "      <td>67.25</td>\n",
       "    </tr>\n",
       "    <tr>\n",
       "      <th>2</th>\n",
       "      <td>S3</td>\n",
       "      <td>Instrumentation</td>\n",
       "      <td>74</td>\n",
       "      <td>72.75</td>\n",
       "    </tr>\n",
       "    <tr>\n",
       "      <th>14</th>\n",
       "      <td>S15</td>\n",
       "      <td>Microelectronics</td>\n",
       "      <td>41</td>\n",
       "      <td>59.00</td>\n",
       "    </tr>\n",
       "    <tr>\n",
       "      <th>16</th>\n",
       "      <td>S17</td>\n",
       "      <td>Microelectronics</td>\n",
       "      <td>79</td>\n",
       "      <td>70.50</td>\n",
       "    </tr>\n",
       "    <tr>\n",
       "      <th>19</th>\n",
       "      <td>S20</td>\n",
       "      <td>Communication</td>\n",
       "      <td>60</td>\n",
       "      <td>66.50</td>\n",
       "    </tr>\n",
       "  </tbody>\n",
       "</table>\n",
       "</div>"
      ],
      "text/plain": [
       "   Name             Track  Electronics  Average\n",
       "1    S2     Communication           75    67.25\n",
       "2    S3   Instrumentation           74    72.75\n",
       "14  S15  Microelectronics           41    59.00\n",
       "16  S17  Microelectronics           79    70.50\n",
       "19  S20     Communication           60    66.50"
      ]
     },
     "execution_count": 15,
     "metadata": {},
     "output_type": "execute_result"
    }
   ],
   "source": [
    "# Create the required data frame for Mindy\n",
    "Mindy = data.loc[(data['Hometown'] == 'Mindanao') & (data['Gender'] == 'Female') & (data['Average'] >= 55), ['Name', 'Track', 'Electronics', 'Average']]\n",
    "Mindy"
   ]
  },
  {
   "cell_type": "markdown",
   "id": "d56885ca-8c3a-46da-9863-bdb6c4381008",
   "metadata": {},
   "source": [
    "**Function:** The code creates a new DataFrame called Mindy by filtering the original data frame data based on two conditions: the Hometown must be 'Mindanao' and the Gender must be 'Female'. This filtered DataFrame is then further refined to only include rows where the Average score is 55 or higher. The resulting DataFrame Mindy only includes four columns: Name, Track, Electronics, and Average. Finally, the code prints the filtered data frame in a formatted table using the tabulate function, making it easy to visualize and understand the data."
   ]
  },
  {
   "cell_type": "markdown",
   "id": "de251509-f1db-43a3-b529-80dd84441c58",
   "metadata": {},
   "source": [
    "> Create a visualization that shows how the different features contributes to average grade."
   ]
  },
  {
   "cell_type": "code",
   "execution_count": 25,
   "id": "98eee21a-bb59-4fef-aed8-cbf953915e2e",
   "metadata": {},
   "outputs": [
    {
     "data": {
      "image/png": "[encoded data removed]",
      "text/plain": [
       "<Figure size 1500x500 with 3 Axes>"
      ]
     },
     "metadata": {},
     "output_type": "display_data"
    }
   ],
   "source": [
    "# Calculate the average grade for each feature\n",
    "track_avg = data.groupby('Track')['Average'].mean()\n",
    "gender_avg = data.groupby('Gender')['Average'].mean()\n",
    "hometown_avg = data.groupby('Hometown')['Average'].mean()\n",
    "\n",
    "# Create a figure and axis\n",
    "fig, ax = plt.subplots(1, 3, figsize=(15, 5))\n",
    "\n",
    "# Plot the average grades for each track\n",
    "ax[0].bar(track_avg.index, track_avg.values)\n",
    "ax[0].set_title('Average Grade by Track')\n",
    "ax[0].set_xlabel('Track')\n",
    "ax[0].set_ylabel('Average Grade')\n",
    "\n",
    "# Plot the average grades for each gender\n",
    "ax[1].bar(gender_avg.index, gender_avg.values)\n",
    "ax[1].set_title('Average Grade by Gender')\n",
    "ax[1].set_xlabel('Gender')\n",
    "ax[1].set_ylabel('Average Grade')\n",
    "\n",
    "# Plot the average grades for each hometown\n",
    "ax[2].bar(hometown_avg.index, hometown_avg.values)\n",
    "ax[2].set_title('Average Grade by Hometown')\n",
    "ax[2].set_xlabel('Hometown')\n",
    "ax[2].set_ylabel('Average Grade')\n",
    "\n",
    "# Show the plot\n",
    "plt.tight_layout()\n",
    "plt.show()"
   ]
  },
  {
   "cell_type": "markdown",
   "id": "cf974e6a-d2b5-4ead-952d-343018e75a85",
   "metadata": {},
   "source": [
    "**Function:** This code calculates the average grade for each feature (Track, Gender, and Hometown) and visualizes the results using bar plots. It first calculates the average grades using the groupby and mean functions. Then, it creates a figure with three subplots, each displaying the average grades for one feature. The plots are customized with titles, labels, and a layout to facilitate easy comparison of the average grades across different features."
   ]
  },
  {
   "cell_type": "markdown",
   "id": "b8a3072e-d6ac-4c56-99a6-25ec016c2abf",
   "metadata": {},
   "source": [
    "***"
   ]
  },
  {
   "cell_type": "markdown",
   "id": "dd9ab9d2-29c0-4902-a9e7-efe8d75bf584",
   "metadata": {},
   "source": [
    "#### Discussion"
   ]
  },
  {
   "cell_type": "markdown",
   "id": "c1164422-7802-404f-a6df-ff61555ae13a",
   "metadata": {},
   "source": [
    "The given code solves the problem by following a structured approach. It begins by importing the necessary libraries, pandas and matplotlib, and reading the data from an Excel file using pd.read_excel. The code then filters the data to create two data frames, Instru and Mindy, based on specific conditions. Additionally, a new column 'Average' is created in the original data frame by calculating the mean of four features: Math, Electronics, GEAS, and Communication.\n",
    "\n",
    "The code then proceeds to calculate the average grades for each feature using groupby and mean functions. This is followed by the creation of three bar plots using matplotlib to visualize the average grades for each track, gender, and hometown. The plots provide a clear and concise representation of the data insights, enabling effective analysis and comparison of the average grades across different categories.\n",
    "\n",
    "Overall, the code demonstrates effective data filtering and feature engineering techniques using Pandas, and the use of groupby and mean functions enables efficient calculation of average grades for each feature. The visualization of results using matplotlib provides a comprehensive solution to the problem, making it easy to understand and interpret the data insights."
   ]
  }
 ],
 "metadata": {
  "kernelspec": {
   "display_name": "Python 3 (ipykernel)",
   "language": "python",
   "name": "python3"
  },
  "language_info": {
   "codemirror_mode": {
    "name": "ipython",
    "version": 3
   },
   "file_extension": ".py",
   "mimetype": "text/x-python",
   "name": "python",
   "nbconvert_exporter": "python",
   "pygments_lexer": "ipython3",
   "version": "3.12.4"
  }
 },
 "nbformat": 4,
 "nbformat_minor": 5
}
